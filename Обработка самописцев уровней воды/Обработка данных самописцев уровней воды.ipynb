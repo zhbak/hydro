{
 "cells": [
  {
   "cell_type": "markdown",
   "id": "8f0a0337",
   "metadata": {},
   "source": [
    "# Обработка данных самописцев уровней воды"
   ]
  },
  {
   "cell_type": "markdown",
   "id": "ed62eb72",
   "metadata": {},
   "source": [
    "Принцип работы датчиков самописцев уровней воды основан на суммарном измерении давления толщи воды и атоммосферного воздуха. Поэтому для определения уровня воды из сумарного давления необходимо вычитать атмосферное давление. После компенсации атмосферного давления относительный уровень воды, измеряемый датчиком, необходимо перевести в абсолютные отметки балтийской системы высот. Он осуществляется с помощью измереной абсолютной отметки уровня воды в результате топографо-геодезичесих работ. Имеющаяся информация по абсолютным отметкам уровня воды (Набс, м БС) и точное времея на момент засечки уреза воды при измерении уровня воды от датчика позволяет рассчитать высоту датчика над уровнем моря (м БС), используя измеренное значение глубины расположения самописца следующим образом:\n",
    "\n",
    "$$H_{абс. уреза} = P_{датчика} - P_{атм} + H_{абс.датчика}$$\n",
    "\n",
    "Этапы:\n",
    "1. Импорт библиотек\n",
    "2. Компенсация атмосферного давления\n",
    "3. Подготовка данных\n",
    "4. Приведение относительного уровня воды к абсолютным отметкам балтийской системы высот"
   ]
  },
  {
   "cell_type": "markdown",
   "id": "dd0e7242",
   "metadata": {},
   "source": [
    "## Импорт библиотек, подгрузка данных, конвертация"
   ]
  },
  {
   "cell_type": "code",
   "execution_count": 324,
   "id": "87aae228",
   "metadata": {},
   "outputs": [],
   "source": [
    "# импорт библиотек\n",
    "import pandas as pd\n",
    "import xarray as xr\n",
    "import os\n",
    "import seaborn as sns\n",
    "import matplotlib.pyplot as plt\n",
    "import cdsapi\n",
    "import warnings\n",
    "warnings.filterwarnings(\"ignore\")"
   ]
  },
  {
   "cell_type": "markdown",
   "id": "24ecfb61",
   "metadata": {},
   "source": [
    "Библиотеки успешно импортированны."
   ]
  },
  {
   "cell_type": "markdown",
   "id": "214c945c",
   "metadata": {},
   "source": [
    "## Компенсация атмосферного давления"
   ]
  },
  {
   "cell_type": "markdown",
   "id": "c93a9986",
   "metadata": {},
   "source": [
    "### Загрузка атмосферного давления ре-анализа ERA5"
   ]
  },
  {
   "cell_type": "markdown",
   "id": "8a642fef",
   "metadata": {},
   "source": [
    "Загрузка будет осуществляться через API ECMWF. Для этого нужно сформировать файл с токеном. Инструкция [здесь](https://confluence.ecmwf.int/display/CKB/How+to+install+and+use+CDS+API+on+Windows). Запрос можно сформировать выбрав необходимый [набор данных](https://cds.climate.copernicus.eu/#!/search?text=ERA5&type=dataset) и перейти во вкаладку \"Download data\". Ниже представлен запрос на атмосферное давление с июня по июль для территории. "
   ]
  },
  {
   "cell_type": "code",
   "execution_count": 325,
   "id": "930c2191",
   "metadata": {},
   "outputs": [
    {
     "name": "stderr",
     "output_type": "stream",
     "text": [
      "2022-11-17 13:21:31,043 INFO Welcome to the CDS\n",
      "2022-11-17 13:21:31,048 INFO Sending request to https://cds.climate.copernicus.eu/api/v2/resources/reanalysis-era5-single-levels\n",
      "2022-11-17 13:21:31,293 INFO Request is queued\n",
      "2022-11-17 13:21:32,368 INFO Request is running\n",
      "2022-11-17 13:23:25,364 INFO Request is completed\n",
      "2022-11-17 13:23:25,366 INFO Downloading https://download-0019.copernicus-climate.eu/cache-compute-0019/cache/data9/adaptor.mars.internal-1668680569.2420673-21829-1-1287b0ea-a157-461b-9749-47637ca4fef2.nc to pressure.nc (24K)\n",
      "2022-11-17 13:23:25,835 INFO Download rate 51.1K/s                                                                     \n"
     ]
    },
    {
     "data": {
      "text/plain": [
       "Result(content_length=24560,content_type=application/x-netcdf,location=https://download-0019.copernicus-climate.eu/cache-compute-0019/cache/data9/adaptor.mars.internal-1668680569.2420673-21829-1-1287b0ea-a157-461b-9749-47637ca4fef2.nc)"
      ]
     },
     "execution_count": 325,
     "metadata": {},
     "output_type": "execute_result"
    }
   ],
   "source": [
    "# подключение к API\n",
    "c = cdsapi.Client()\n",
    "\n",
    "# запрос\n",
    "c.retrieve(\n",
    "    'reanalysis-era5-single-levels',\n",
    "    {\n",
    "        'product_type': 'reanalysis',\n",
    "        'format': 'netcdf',\n",
    "        'variable': 'surface_pressure',\n",
    "        'year': '2022',\n",
    "        'month': [\n",
    "            '06', '07',\n",
    "        ],\n",
    "        'day': [\n",
    "            '01', '02', '03',\n",
    "            '04', '05', '06',\n",
    "            '07', '08', '09',\n",
    "            '10', '11', '12',\n",
    "            '13', '14', '15',\n",
    "            '16', '17', '18',\n",
    "            '19', '20', '21',\n",
    "            '22', '23', '24',\n",
    "            '25', '26', '27',\n",
    "            '28', '29', '30',\n",
    "            '31',\n",
    "        ],\n",
    "        'time': [\n",
    "            '00:00', '01:00', '02:00',\n",
    "            '03:00', '04:00', '05:00',\n",
    "            '06:00', '07:00', '08:00',\n",
    "            '09:00', '10:00', '11:00',\n",
    "            '12:00', '13:00', '14:00',\n",
    "            '15:00', '16:00', '17:00',\n",
    "            '18:00', '19:00', '20:00',\n",
    "            '21:00', '22:00', '23:00',\n",
    "        ],\n",
    "        'area': [\n",
    "            60.50, 165.75, 60.25,\n",
    "            166.25,\n",
    "        ],\n",
    "    },\n",
    "    'pressure.nc')"
   ]
  },
  {
   "cell_type": "markdown",
   "id": "a40afabe",
   "metadata": {},
   "source": [
    "Загрузили файл pressure.nc c информацией об атмосферном давлении в паскалях в ячейках с июня по июль."
   ]
  },
  {
   "cell_type": "markdown",
   "id": "789d883e",
   "metadata": {},
   "source": [
    "### Импорт .nc и преобразование в .csv"
   ]
  },
  {
   "cell_type": "code",
   "execution_count": 326,
   "id": "c69be80d",
   "metadata": {},
   "outputs": [],
   "source": [
    "# прописываем пути к файлам\n",
    "netcdf_dir = path\n",
    "csv_dir = netcdf_dir\n",
    "netcdf_file_name = 'pressure.nc'\n",
    "netcdf_file_in = netcdf_dir + netcdf_file_name\n",
    "csv_file_out = csv_dir + netcdf_file_name[:-3] + '.csv'"
   ]
  },
  {
   "cell_type": "code",
   "execution_count": 327,
   "id": "b36c064d",
   "metadata": {},
   "outputs": [],
   "source": [
    "# импорт netcdf и преобразование с dataframe\n",
    "ds = xr.open_dataset(netcdf_file_in)\n",
    "df = ds.to_dataframe()\n",
    "\n",
    "# сохранение csv\n",
    "df.to_csv(csv_file_out)"
   ]
  },
  {
   "cell_type": "code",
   "execution_count": 328,
   "id": "3cd5a524",
   "metadata": {},
   "outputs": [],
   "source": [
    "# сделаем индексом столбец по времени\n",
    "df = df.reset_index().set_index('time')"
   ]
  },
  {
   "cell_type": "markdown",
   "id": "270698f5",
   "metadata": {},
   "source": [
    "Посмотрим что получилось."
   ]
  },
  {
   "cell_type": "code",
   "execution_count": 329,
   "id": "a414578c",
   "metadata": {},
   "outputs": [
    {
     "data": {
      "text/html": [
       "<div>\n",
       "<style scoped>\n",
       "    .dataframe tbody tr th:only-of-type {\n",
       "        vertical-align: middle;\n",
       "    }\n",
       "\n",
       "    .dataframe tbody tr th {\n",
       "        vertical-align: top;\n",
       "    }\n",
       "\n",
       "    .dataframe thead th {\n",
       "        text-align: right;\n",
       "    }\n",
       "</style>\n",
       "<table border=\"1\" class=\"dataframe\">\n",
       "  <thead>\n",
       "    <tr style=\"text-align: right;\">\n",
       "      <th></th>\n",
       "      <th>longitude</th>\n",
       "      <th>latitude</th>\n",
       "      <th>sp</th>\n",
       "    </tr>\n",
       "    <tr>\n",
       "      <th>time</th>\n",
       "      <th></th>\n",
       "      <th></th>\n",
       "      <th></th>\n",
       "    </tr>\n",
       "  </thead>\n",
       "  <tbody>\n",
       "    <tr>\n",
       "      <th>2022-06-01 00:00:00</th>\n",
       "      <td>165.75</td>\n",
       "      <td>60.5</td>\n",
       "      <td>100072.718750</td>\n",
       "    </tr>\n",
       "    <tr>\n",
       "      <th>2022-06-01 01:00:00</th>\n",
       "      <td>165.75</td>\n",
       "      <td>60.5</td>\n",
       "      <td>100060.742188</td>\n",
       "    </tr>\n",
       "    <tr>\n",
       "      <th>2022-06-01 02:00:00</th>\n",
       "      <td>165.75</td>\n",
       "      <td>60.5</td>\n",
       "      <td>100044.890625</td>\n",
       "    </tr>\n",
       "    <tr>\n",
       "      <th>2022-06-01 03:00:00</th>\n",
       "      <td>165.75</td>\n",
       "      <td>60.5</td>\n",
       "      <td>100008.960938</td>\n",
       "    </tr>\n",
       "    <tr>\n",
       "      <th>2022-06-01 04:00:00</th>\n",
       "      <td>165.75</td>\n",
       "      <td>60.5</td>\n",
       "      <td>100012.382812</td>\n",
       "    </tr>\n",
       "  </tbody>\n",
       "</table>\n",
       "</div>"
      ],
      "text/plain": [
       "                     longitude  latitude             sp\n",
       "time                                                   \n",
       "2022-06-01 00:00:00     165.75      60.5  100072.718750\n",
       "2022-06-01 01:00:00     165.75      60.5  100060.742188\n",
       "2022-06-01 02:00:00     165.75      60.5  100044.890625\n",
       "2022-06-01 03:00:00     165.75      60.5  100008.960938\n",
       "2022-06-01 04:00:00     165.75      60.5  100012.382812"
      ]
     },
     "execution_count": 329,
     "metadata": {},
     "output_type": "execute_result"
    }
   ],
   "source": [
    "df.head()"
   ]
  },
  {
   "cell_type": "code",
   "execution_count": 330,
   "id": "bfb9571f",
   "metadata": {},
   "outputs": [
    {
     "name": "stdout",
     "output_type": "stream",
     "text": [
      "<class 'pandas.core.frame.DataFrame'>\n",
      "DatetimeIndex: 8784 entries, 2022-06-01 00:00:00 to 2022-07-31 23:00:00\n",
      "Data columns (total 3 columns):\n",
      " #   Column     Non-Null Count  Dtype  \n",
      "---  ------     --------------  -----  \n",
      " 0   longitude  8784 non-null   float64\n",
      " 1   latitude   8784 non-null   float64\n",
      " 2   sp         8784 non-null   float32\n",
      "dtypes: float32(1), float64(2)\n",
      "memory usage: 240.2 KB\n"
     ]
    }
   ],
   "source": [
    "df.info()"
   ]
  },
  {
   "cell_type": "markdown",
   "id": "acf7f7fd",
   "metadata": {},
   "source": [
    "Переводим паскали в метры водного столба."
   ]
  },
  {
   "cell_type": "code",
   "execution_count": 331,
   "id": "ae55599c",
   "metadata": {},
   "outputs": [],
   "source": [
    "df['p_mwst'] = df['sp'] / 9.80665 / 1000"
   ]
  },
  {
   "cell_type": "markdown",
   "id": "bd3345f2",
   "metadata": {},
   "source": [
    "- Преобразовали .nc в .csv для дальнейшей работы;\n",
    "- Преобразовали паскали в метры водного столба - именно в них измерятся давление в самописах уровней воды."
   ]
  },
  {
   "cell_type": "markdown",
   "id": "8835c365",
   "metadata": {},
   "source": [
    "## Интерполяция и изменение временного масштаба данных "
   ]
  },
  {
   "cell_type": "markdown",
   "id": "f134e111",
   "metadata": {},
   "source": [
    "В связи с тем, что запись самопицев уровней воды велась с дискретностью 15 мин, данные о давлении нуждаются в ресемпле к этой дискретности. Нас интересует только одна ячейка с координатами центра 60.25, 166.00. Отфильтруем давление по этим координатам."
   ]
  },
  {
   "cell_type": "code",
   "execution_count": 332,
   "id": "4789e912",
   "metadata": {},
   "outputs": [],
   "source": [
    "df_6025_166 = df[(df['longitude'].isin([166.]))\n",
    "            & (df['latitude'].isin([60.25]))]"
   ]
  },
  {
   "cell_type": "code",
   "execution_count": 333,
   "id": "3396a256",
   "metadata": {},
   "outputs": [
    {
     "data": {
      "text/html": [
       "<div>\n",
       "<style scoped>\n",
       "    .dataframe tbody tr th:only-of-type {\n",
       "        vertical-align: middle;\n",
       "    }\n",
       "\n",
       "    .dataframe tbody tr th {\n",
       "        vertical-align: top;\n",
       "    }\n",
       "\n",
       "    .dataframe thead th {\n",
       "        text-align: right;\n",
       "    }\n",
       "</style>\n",
       "<table border=\"1\" class=\"dataframe\">\n",
       "  <thead>\n",
       "    <tr style=\"text-align: right;\">\n",
       "      <th></th>\n",
       "      <th>longitude</th>\n",
       "      <th>latitude</th>\n",
       "      <th>sp</th>\n",
       "      <th>p_mwst</th>\n",
       "    </tr>\n",
       "    <tr>\n",
       "      <th>time</th>\n",
       "      <th></th>\n",
       "      <th></th>\n",
       "      <th></th>\n",
       "      <th></th>\n",
       "    </tr>\n",
       "  </thead>\n",
       "  <tbody>\n",
       "    <tr>\n",
       "      <th>2022-06-01 00:00:00</th>\n",
       "      <td>166.0</td>\n",
       "      <td>60.25</td>\n",
       "      <td>101376.703125</td>\n",
       "      <td>10.337547</td>\n",
       "    </tr>\n",
       "    <tr>\n",
       "      <th>2022-06-01 01:00:00</th>\n",
       "      <td>166.0</td>\n",
       "      <td>60.25</td>\n",
       "      <td>101363.757812</td>\n",
       "      <td>10.336226</td>\n",
       "    </tr>\n",
       "    <tr>\n",
       "      <th>2022-06-01 02:00:00</th>\n",
       "      <td>166.0</td>\n",
       "      <td>60.25</td>\n",
       "      <td>101345.898438</td>\n",
       "      <td>10.334405</td>\n",
       "    </tr>\n",
       "    <tr>\n",
       "      <th>2022-06-01 03:00:00</th>\n",
       "      <td>166.0</td>\n",
       "      <td>60.25</td>\n",
       "      <td>101312.945312</td>\n",
       "      <td>10.331045</td>\n",
       "    </tr>\n",
       "    <tr>\n",
       "      <th>2022-06-01 04:00:00</th>\n",
       "      <td>166.0</td>\n",
       "      <td>60.25</td>\n",
       "      <td>101317.406250</td>\n",
       "      <td>10.331500</td>\n",
       "    </tr>\n",
       "  </tbody>\n",
       "</table>\n",
       "</div>"
      ],
      "text/plain": [
       "                     longitude  latitude             sp     p_mwst\n",
       "time                                                              \n",
       "2022-06-01 00:00:00      166.0     60.25  101376.703125  10.337547\n",
       "2022-06-01 01:00:00      166.0     60.25  101363.757812  10.336226\n",
       "2022-06-01 02:00:00      166.0     60.25  101345.898438  10.334405\n",
       "2022-06-01 03:00:00      166.0     60.25  101312.945312  10.331045\n",
       "2022-06-01 04:00:00      166.0     60.25  101317.406250  10.331500"
      ]
     },
     "execution_count": 333,
     "metadata": {},
     "output_type": "execute_result"
    }
   ],
   "source": [
    "df_6025_166.head()"
   ]
  },
  {
   "cell_type": "code",
   "execution_count": 334,
   "id": "468f1b51",
   "metadata": {},
   "outputs": [],
   "source": [
    "# делеем ресемпл на 15 минут с линейной интерполяцией\n",
    "df_6025_166 = df_6025_166.resample('15min').interpolate(method ='linear').reset_index()"
   ]
  },
  {
   "cell_type": "markdown",
   "id": "54c1cbf6",
   "metadata": {},
   "source": [
    "Посмотрим на линейный график динамики атмосферного давления."
   ]
  },
  {
   "cell_type": "code",
   "execution_count": 335,
   "id": "b9aee1b4",
   "metadata": {},
   "outputs": [
    {
     "data": {
      "image/png": "[encoded data removed]",
      "text/plain": [
       "<Figure size 864x432 with 1 Axes>"
      ]
     },
     "metadata": {
      "needs_background": "light"
     },
     "output_type": "display_data"
    }
   ],
   "source": [
    "fig = plt.figure(figsize=(12, 6))\n",
    "ax = sns.lineplot(data=df_6025_166, x=df_6025_166['time'], y=df_6025_166['p_mwst'])"
   ]
  },
  {
   "cell_type": "markdown",
   "id": "6a2fdc41",
   "metadata": {},
   "source": [
    "Ресемпл осуществлён успешно."
   ]
  },
  {
   "cell_type": "markdown",
   "id": "a1be6063",
   "metadata": {},
   "source": [
    "## Приведение относительного уровня воды к абсолютным отметкам балтийской системы высот"
   ]
  },
  {
   "cell_type": "markdown",
   "id": "785b1213",
   "metadata": {},
   "source": [
    "В этом разделе проведём компенсацию давлений. Ниже загрузим файл с общим давление самописцев в м водного столба. Подгрузим данные самописцев."
   ]
  },
  {
   "cell_type": "code",
   "execution_count": 336,
   "id": "c47b625c",
   "metadata": {},
   "outputs": [],
   "source": [
    "logs_mwst = pd.read_csv(path, sep=';')"
   ]
  },
  {
   "cell_type": "code",
   "execution_count": 337,
   "id": "89a74a58",
   "metadata": {},
   "outputs": [
    {
     "data": {
      "text/html": [
       "<div>\n",
       "<style scoped>\n",
       "    .dataframe tbody tr th:only-of-type {\n",
       "        vertical-align: middle;\n",
       "    }\n",
       "\n",
       "    .dataframe tbody tr th {\n",
       "        vertical-align: top;\n",
       "    }\n",
       "\n",
       "    .dataframe thead th {\n",
       "        text-align: right;\n",
       "    }\n",
       "</style>\n",
       "<table border=\"1\" class=\"dataframe\">\n",
       "  <thead>\n",
       "    <tr style=\"text-align: right;\">\n",
       "      <th></th>\n",
       "      <th>date_time</th>\n",
       "      <th>log_1</th>\n",
       "      <th>log_2</th>\n",
       "      <th>log_3</th>\n",
       "      <th>log_4</th>\n",
       "    </tr>\n",
       "  </thead>\n",
       "  <tbody>\n",
       "    <tr>\n",
       "      <th>0</th>\n",
       "      <td>26.06.22 10:15</td>\n",
       "      <td>10.955055</td>\n",
       "      <td>10.867300</td>\n",
       "      <td>10.802263</td>\n",
       "      <td>NaN</td>\n",
       "    </tr>\n",
       "    <tr>\n",
       "      <th>1</th>\n",
       "      <td>26.06.22 10:30</td>\n",
       "      <td>10.946031</td>\n",
       "      <td>10.852983</td>\n",
       "      <td>10.785143</td>\n",
       "      <td>NaN</td>\n",
       "    </tr>\n",
       "    <tr>\n",
       "      <th>2</th>\n",
       "      <td>26.06.22 10:45</td>\n",
       "      <td>10.950701</td>\n",
       "      <td>10.838983</td>\n",
       "      <td>10.762424</td>\n",
       "      <td>NaN</td>\n",
       "    </tr>\n",
       "    <tr>\n",
       "      <th>3</th>\n",
       "      <td>26.06.22 11:00</td>\n",
       "      <td>10.970616</td>\n",
       "      <td>10.827154</td>\n",
       "      <td>10.745619</td>\n",
       "      <td>NaN</td>\n",
       "    </tr>\n",
       "    <tr>\n",
       "      <th>4</th>\n",
       "      <td>26.06.22 11:15</td>\n",
       "      <td>10.999861</td>\n",
       "      <td>10.824972</td>\n",
       "      <td>10.730691</td>\n",
       "      <td>NaN</td>\n",
       "    </tr>\n",
       "  </tbody>\n",
       "</table>\n",
       "</div>"
      ],
      "text/plain": [
       "        date_time      log_1      log_2      log_3  log_4\n",
       "0  26.06.22 10:15  10.955055  10.867300  10.802263    NaN\n",
       "1  26.06.22 10:30  10.946031  10.852983  10.785143    NaN\n",
       "2  26.06.22 10:45  10.950701  10.838983  10.762424    NaN\n",
       "3  26.06.22 11:00  10.970616  10.827154  10.745619    NaN\n",
       "4  26.06.22 11:15  10.999861  10.824972  10.730691    NaN"
      ]
     },
     "execution_count": 337,
     "metadata": {},
     "output_type": "execute_result"
    }
   ],
   "source": [
    "logs_mwst.head()"
   ]
  },
  {
   "cell_type": "markdown",
   "id": "2dae50e4",
   "metadata": {},
   "source": [
    "Вычислим уровень *воды* для каждого самописца вычитанием атмосферного давления. Для этого объеденим таблицы, но сначала преобразуем даты."
   ]
  },
  {
   "cell_type": "code",
   "execution_count": 338,
   "id": "f80f8384",
   "metadata": {},
   "outputs": [
    {
     "data": {
      "text/html": [
       "<div>\n",
       "<style scoped>\n",
       "    .dataframe tbody tr th:only-of-type {\n",
       "        vertical-align: middle;\n",
       "    }\n",
       "\n",
       "    .dataframe tbody tr th {\n",
       "        vertical-align: top;\n",
       "    }\n",
       "\n",
       "    .dataframe thead th {\n",
       "        text-align: right;\n",
       "    }\n",
       "</style>\n",
       "<table border=\"1\" class=\"dataframe\">\n",
       "  <thead>\n",
       "    <tr style=\"text-align: right;\">\n",
       "      <th></th>\n",
       "      <th>date_time</th>\n",
       "      <th>log_1</th>\n",
       "      <th>log_2</th>\n",
       "      <th>log_3</th>\n",
       "      <th>log_4</th>\n",
       "      <th>time</th>\n",
       "      <th>p_mwst</th>\n",
       "    </tr>\n",
       "  </thead>\n",
       "  <tbody>\n",
       "    <tr>\n",
       "      <th>0</th>\n",
       "      <td>2022-06-26 10:15:00</td>\n",
       "      <td>10.955055</td>\n",
       "      <td>10.867300</td>\n",
       "      <td>10.802263</td>\n",
       "      <td>NaN</td>\n",
       "      <td>2022-06-26 10:15:00</td>\n",
       "      <td>10.160950</td>\n",
       "    </tr>\n",
       "    <tr>\n",
       "      <th>1</th>\n",
       "      <td>2022-06-26 10:30:00</td>\n",
       "      <td>10.946031</td>\n",
       "      <td>10.852983</td>\n",
       "      <td>10.785143</td>\n",
       "      <td>NaN</td>\n",
       "      <td>2022-06-26 10:30:00</td>\n",
       "      <td>10.162489</td>\n",
       "    </tr>\n",
       "    <tr>\n",
       "      <th>2</th>\n",
       "      <td>2022-06-26 10:45:00</td>\n",
       "      <td>10.950701</td>\n",
       "      <td>10.838983</td>\n",
       "      <td>10.762424</td>\n",
       "      <td>NaN</td>\n",
       "      <td>2022-06-26 10:45:00</td>\n",
       "      <td>10.164029</td>\n",
       "    </tr>\n",
       "    <tr>\n",
       "      <th>3</th>\n",
       "      <td>2022-06-26 11:00:00</td>\n",
       "      <td>10.970616</td>\n",
       "      <td>10.827154</td>\n",
       "      <td>10.745619</td>\n",
       "      <td>NaN</td>\n",
       "      <td>2022-06-26 11:00:00</td>\n",
       "      <td>10.165569</td>\n",
       "    </tr>\n",
       "    <tr>\n",
       "      <th>4</th>\n",
       "      <td>2022-06-26 11:15:00</td>\n",
       "      <td>10.999861</td>\n",
       "      <td>10.824972</td>\n",
       "      <td>10.730691</td>\n",
       "      <td>NaN</td>\n",
       "      <td>2022-06-26 11:15:00</td>\n",
       "      <td>10.165095</td>\n",
       "    </tr>\n",
       "  </tbody>\n",
       "</table>\n",
       "</div>"
      ],
      "text/plain": [
       "            date_time      log_1      log_2      log_3  log_4  \\\n",
       "0 2022-06-26 10:15:00  10.955055  10.867300  10.802263    NaN   \n",
       "1 2022-06-26 10:30:00  10.946031  10.852983  10.785143    NaN   \n",
       "2 2022-06-26 10:45:00  10.950701  10.838983  10.762424    NaN   \n",
       "3 2022-06-26 11:00:00  10.970616  10.827154  10.745619    NaN   \n",
       "4 2022-06-26 11:15:00  10.999861  10.824972  10.730691    NaN   \n",
       "\n",
       "                 time     p_mwst  \n",
       "0 2022-06-26 10:15:00  10.160950  \n",
       "1 2022-06-26 10:30:00  10.162489  \n",
       "2 2022-06-26 10:45:00  10.164029  \n",
       "3 2022-06-26 11:00:00  10.165569  \n",
       "4 2022-06-26 11:15:00  10.165095  "
      ]
     },
     "execution_count": 338,
     "metadata": {},
     "output_type": "execute_result"
    }
   ],
   "source": [
    "logs_mwst['date_time'] = pd.to_datetime(logs_mwst['date_time'], format='%d.%m.%y %H:%M')\n",
    "logs_merge = pd.merge(logs_mwst, df_6025_166[['time', 'p_mwst']], how='left', left_on='date_time', right_on='time')\n",
    "logs_merge.head()"
   ]
  },
  {
   "cell_type": "markdown",
   "id": "c2d49cb9",
   "metadata": {},
   "source": [
    "Вычислим толщу воды в метрах. Вычитаем из общего давления атмосферное давление."
   ]
  },
  {
   "cell_type": "code",
   "execution_count": 339,
   "id": "10d0954b",
   "metadata": {},
   "outputs": [],
   "source": [
    "logs_merge['log_1_comp_m'] = logs_merge['log_1'] - logs_merge['p_mwst']\n",
    "logs_merge['log_2_comp_m'] = logs_merge['log_2'] - logs_merge['p_mwst']\n",
    "logs_merge['log_3_comp_m'] = logs_merge['log_3'] - logs_merge['p_mwst']\n",
    "logs_merge['log_4_comp_m'] = logs_merge['log_4'] - logs_merge['p_mwst']"
   ]
  },
  {
   "cell_type": "code",
   "execution_count": 340,
   "id": "9c98d303",
   "metadata": {},
   "outputs": [
    {
     "data": {
      "text/html": [
       "<div>\n",
       "<style scoped>\n",
       "    .dataframe tbody tr th:only-of-type {\n",
       "        vertical-align: middle;\n",
       "    }\n",
       "\n",
       "    .dataframe tbody tr th {\n",
       "        vertical-align: top;\n",
       "    }\n",
       "\n",
       "    .dataframe thead th {\n",
       "        text-align: right;\n",
       "    }\n",
       "</style>\n",
       "<table border=\"1\" class=\"dataframe\">\n",
       "  <thead>\n",
       "    <tr style=\"text-align: right;\">\n",
       "      <th></th>\n",
       "      <th>date_time</th>\n",
       "      <th>log_1</th>\n",
       "      <th>log_2</th>\n",
       "      <th>log_3</th>\n",
       "      <th>log_4</th>\n",
       "      <th>time</th>\n",
       "      <th>p_mwst</th>\n",
       "      <th>log_1_comp_m</th>\n",
       "      <th>log_2_comp_m</th>\n",
       "      <th>log_3_comp_m</th>\n",
       "      <th>log_4_comp_m</th>\n",
       "    </tr>\n",
       "  </thead>\n",
       "  <tbody>\n",
       "    <tr>\n",
       "      <th>0</th>\n",
       "      <td>2022-06-26 10:15:00</td>\n",
       "      <td>10.955055</td>\n",
       "      <td>10.867300</td>\n",
       "      <td>10.802263</td>\n",
       "      <td>NaN</td>\n",
       "      <td>2022-06-26 10:15:00</td>\n",
       "      <td>10.160950</td>\n",
       "      <td>0.794105</td>\n",
       "      <td>0.706350</td>\n",
       "      <td>0.641314</td>\n",
       "      <td>NaN</td>\n",
       "    </tr>\n",
       "    <tr>\n",
       "      <th>1</th>\n",
       "      <td>2022-06-26 10:30:00</td>\n",
       "      <td>10.946031</td>\n",
       "      <td>10.852983</td>\n",
       "      <td>10.785143</td>\n",
       "      <td>NaN</td>\n",
       "      <td>2022-06-26 10:30:00</td>\n",
       "      <td>10.162489</td>\n",
       "      <td>0.783542</td>\n",
       "      <td>0.690494</td>\n",
       "      <td>0.622654</td>\n",
       "      <td>NaN</td>\n",
       "    </tr>\n",
       "    <tr>\n",
       "      <th>2</th>\n",
       "      <td>2022-06-26 10:45:00</td>\n",
       "      <td>10.950701</td>\n",
       "      <td>10.838983</td>\n",
       "      <td>10.762424</td>\n",
       "      <td>NaN</td>\n",
       "      <td>2022-06-26 10:45:00</td>\n",
       "      <td>10.164029</td>\n",
       "      <td>0.786672</td>\n",
       "      <td>0.674954</td>\n",
       "      <td>0.598395</td>\n",
       "      <td>NaN</td>\n",
       "    </tr>\n",
       "    <tr>\n",
       "      <th>3</th>\n",
       "      <td>2022-06-26 11:00:00</td>\n",
       "      <td>10.970616</td>\n",
       "      <td>10.827154</td>\n",
       "      <td>10.745619</td>\n",
       "      <td>NaN</td>\n",
       "      <td>2022-06-26 11:00:00</td>\n",
       "      <td>10.165569</td>\n",
       "      <td>0.805046</td>\n",
       "      <td>0.661585</td>\n",
       "      <td>0.580050</td>\n",
       "      <td>NaN</td>\n",
       "    </tr>\n",
       "    <tr>\n",
       "      <th>4</th>\n",
       "      <td>2022-06-26 11:15:00</td>\n",
       "      <td>10.999861</td>\n",
       "      <td>10.824972</td>\n",
       "      <td>10.730691</td>\n",
       "      <td>NaN</td>\n",
       "      <td>2022-06-26 11:15:00</td>\n",
       "      <td>10.165095</td>\n",
       "      <td>0.834765</td>\n",
       "      <td>0.659877</td>\n",
       "      <td>0.565595</td>\n",
       "      <td>NaN</td>\n",
       "    </tr>\n",
       "  </tbody>\n",
       "</table>\n",
       "</div>"
      ],
      "text/plain": [
       "            date_time      log_1      log_2      log_3  log_4  \\\n",
       "0 2022-06-26 10:15:00  10.955055  10.867300  10.802263    NaN   \n",
       "1 2022-06-26 10:30:00  10.946031  10.852983  10.785143    NaN   \n",
       "2 2022-06-26 10:45:00  10.950701  10.838983  10.762424    NaN   \n",
       "3 2022-06-26 11:00:00  10.970616  10.827154  10.745619    NaN   \n",
       "4 2022-06-26 11:15:00  10.999861  10.824972  10.730691    NaN   \n",
       "\n",
       "                 time     p_mwst  log_1_comp_m  log_2_comp_m  log_3_comp_m  \\\n",
       "0 2022-06-26 10:15:00  10.160950      0.794105      0.706350      0.641314   \n",
       "1 2022-06-26 10:30:00  10.162489      0.783542      0.690494      0.622654   \n",
       "2 2022-06-26 10:45:00  10.164029      0.786672      0.674954      0.598395   \n",
       "3 2022-06-26 11:00:00  10.165569      0.805046      0.661585      0.580050   \n",
       "4 2022-06-26 11:15:00  10.165095      0.834765      0.659877      0.565595   \n",
       "\n",
       "   log_4_comp_m  \n",
       "0           NaN  \n",
       "1           NaN  \n",
       "2           NaN  \n",
       "3           NaN  \n",
       "4           NaN  "
      ]
     },
     "execution_count": 340,
     "metadata": {},
     "output_type": "execute_result"
    }
   ],
   "source": [
    "logs_merge.head()"
   ]
  },
  {
   "cell_type": "markdown",
   "id": "a98862a7",
   "metadata": {},
   "source": [
    "Таким образом мы получили высоту уровня воды над датчиком самописца.\n",
    "\n",
    "Теперь уровень воды нужно привязать к абсолютным отметкам с помощью одномоментно измеренного занчения уровня воды рядом с каждым самописцем.\n",
    "\n",
    "Ниже создаём таблицу с данными об измеренных урезах воды в м БС."
   ]
  },
  {
   "cell_type": "code",
   "execution_count": 341,
   "id": "32b7ae10",
   "metadata": {},
   "outputs": [],
   "source": [
    "logs_urez = pd.DataFrame({'log': ['log_1', 'log_2', 'log_3', 'log_4'],\n",
    "                          'time':['2022-06-27 14:45', '2022-06-27 13:45', '2022-06-27 11:15', '2022-06-30 19:30'],\n",
    "                          'H_m_bs':[-0.57, -0.86, -1.22, 0.88]})"
   ]
  },
  {
   "cell_type": "code",
   "execution_count": 342,
   "id": "60d0ad2c",
   "metadata": {},
   "outputs": [
    {
     "data": {
      "text/html": [
       "<div>\n",
       "<style scoped>\n",
       "    .dataframe tbody tr th:only-of-type {\n",
       "        vertical-align: middle;\n",
       "    }\n",
       "\n",
       "    .dataframe tbody tr th {\n",
       "        vertical-align: top;\n",
       "    }\n",
       "\n",
       "    .dataframe thead th {\n",
       "        text-align: right;\n",
       "    }\n",
       "</style>\n",
       "<table border=\"1\" class=\"dataframe\">\n",
       "  <thead>\n",
       "    <tr style=\"text-align: right;\">\n",
       "      <th></th>\n",
       "      <th>log</th>\n",
       "      <th>time</th>\n",
       "      <th>H_m_bs</th>\n",
       "    </tr>\n",
       "  </thead>\n",
       "  <tbody>\n",
       "    <tr>\n",
       "      <th>0</th>\n",
       "      <td>log_1</td>\n",
       "      <td>2022-06-27 14:45</td>\n",
       "      <td>-0.57</td>\n",
       "    </tr>\n",
       "    <tr>\n",
       "      <th>1</th>\n",
       "      <td>log_2</td>\n",
       "      <td>2022-06-27 13:45</td>\n",
       "      <td>-0.86</td>\n",
       "    </tr>\n",
       "    <tr>\n",
       "      <th>2</th>\n",
       "      <td>log_3</td>\n",
       "      <td>2022-06-27 11:15</td>\n",
       "      <td>-1.22</td>\n",
       "    </tr>\n",
       "    <tr>\n",
       "      <th>3</th>\n",
       "      <td>log_4</td>\n",
       "      <td>2022-06-30 19:30</td>\n",
       "      <td>0.88</td>\n",
       "    </tr>\n",
       "  </tbody>\n",
       "</table>\n",
       "</div>"
      ],
      "text/plain": [
       "     log              time  H_m_bs\n",
       "0  log_1  2022-06-27 14:45   -0.57\n",
       "1  log_2  2022-06-27 13:45   -0.86\n",
       "2  log_3  2022-06-27 11:15   -1.22\n",
       "3  log_4  2022-06-30 19:30    0.88"
      ]
     },
     "execution_count": 342,
     "metadata": {},
     "output_type": "execute_result"
    }
   ],
   "source": [
    "logs_urez"
   ]
  },
  {
   "cell_type": "markdown",
   "id": "9f82885b",
   "metadata": {},
   "source": [
    "Поправим формат дат."
   ]
  },
  {
   "cell_type": "code",
   "execution_count": 343,
   "id": "8b4a8e50",
   "metadata": {
    "scrolled": true
   },
   "outputs": [],
   "source": [
    "logs_urez['time'] = pd.to_datetime(logs_urez['time'], format='%Y-%m-%d %H:%M')"
   ]
  },
  {
   "cell_type": "markdown",
   "id": "dc77f206",
   "metadata": {},
   "source": [
    "Создадим функци. Первая функция log_H будет искать отметку высоты датчика в м БС. Далее высоту датчика прибавим к записанным относительным уровням воды."
   ]
  },
  {
   "cell_type": "code",
   "execution_count": 344,
   "id": "d66e6a62",
   "metadata": {},
   "outputs": [],
   "source": [
    "# функция расчитывающа яразницу\n",
    "def log_H(log_row, log_column):\n",
    "    for index, row in logs_merge.iterrows():\n",
    "        if row['time'] == logs_urez.loc[log_row, 'time']:\n",
    "             H = logs_urez.loc[log_row, 'H_m_bs'] - row[log_column] \n",
    "    return H"
   ]
  },
  {
   "cell_type": "markdown",
   "id": "b3996879",
   "metadata": {},
   "source": [
    "Применим функцию и создадим столбцы с урезом в балтийской системы высот для каждой точки, где был установлен самописец."
   ]
  },
  {
   "cell_type": "code",
   "execution_count": 345,
   "id": "b09a9b1c",
   "metadata": {},
   "outputs": [],
   "source": [
    "H = log_H(0, 'log_1_comp_m')\n",
    "logs_merge['log_1_comp_m_bs'] = logs_merge['log_1_comp_m'] + H\n",
    "\n",
    "H = log_H(1, 'log_2_comp_m')\n",
    "logs_merge['log_2_comp_m_bs'] = logs_merge['log_2_comp_m'] + H\n",
    "\n",
    "H = log_H(2, 'log_3_comp_m')\n",
    "logs_merge['log_3_comp_m_bs'] = logs_merge['log_3_comp_m'] + H\n",
    "\n",
    "H = log_H(3, 'log_4_comp_m')\n",
    "logs_merge['log_4_comp_m_bs'] = logs_merge['log_4_comp_m'] + H"
   ]
  },
  {
   "cell_type": "code",
   "execution_count": 346,
   "id": "8fbdba8b",
   "metadata": {},
   "outputs": [
    {
     "data": {
      "text/html": [
       "<div>\n",
       "<style scoped>\n",
       "    .dataframe tbody tr th:only-of-type {\n",
       "        vertical-align: middle;\n",
       "    }\n",
       "\n",
       "    .dataframe tbody tr th {\n",
       "        vertical-align: top;\n",
       "    }\n",
       "\n",
       "    .dataframe thead th {\n",
       "        text-align: right;\n",
       "    }\n",
       "</style>\n",
       "<table border=\"1\" class=\"dataframe\">\n",
       "  <thead>\n",
       "    <tr style=\"text-align: right;\">\n",
       "      <th></th>\n",
       "      <th>date_time</th>\n",
       "      <th>log_1</th>\n",
       "      <th>log_2</th>\n",
       "      <th>log_3</th>\n",
       "      <th>log_4</th>\n",
       "      <th>time</th>\n",
       "      <th>p_mwst</th>\n",
       "      <th>log_1_comp_m</th>\n",
       "      <th>log_2_comp_m</th>\n",
       "      <th>log_3_comp_m</th>\n",
       "      <th>log_4_comp_m</th>\n",
       "      <th>log_1_comp_m_bs</th>\n",
       "      <th>log_2_comp_m_bs</th>\n",
       "      <th>log_3_comp_m_bs</th>\n",
       "      <th>log_4_comp_m_bs</th>\n",
       "    </tr>\n",
       "  </thead>\n",
       "  <tbody>\n",
       "    <tr>\n",
       "      <th>0</th>\n",
       "      <td>2022-06-26 10:15:00</td>\n",
       "      <td>10.955055</td>\n",
       "      <td>10.867300</td>\n",
       "      <td>10.802263</td>\n",
       "      <td>NaN</td>\n",
       "      <td>2022-06-26 10:15:00</td>\n",
       "      <td>10.160950</td>\n",
       "      <td>0.794105</td>\n",
       "      <td>0.706350</td>\n",
       "      <td>0.641314</td>\n",
       "      <td>NaN</td>\n",
       "      <td>-1.128614</td>\n",
       "      <td>-1.034177</td>\n",
       "      <td>-1.136134</td>\n",
       "      <td>NaN</td>\n",
       "    </tr>\n",
       "    <tr>\n",
       "      <th>1</th>\n",
       "      <td>2022-06-26 10:30:00</td>\n",
       "      <td>10.946031</td>\n",
       "      <td>10.852983</td>\n",
       "      <td>10.785143</td>\n",
       "      <td>NaN</td>\n",
       "      <td>2022-06-26 10:30:00</td>\n",
       "      <td>10.162489</td>\n",
       "      <td>0.783542</td>\n",
       "      <td>0.690494</td>\n",
       "      <td>0.622654</td>\n",
       "      <td>NaN</td>\n",
       "      <td>-1.139178</td>\n",
       "      <td>-1.050033</td>\n",
       "      <td>-1.154794</td>\n",
       "      <td>NaN</td>\n",
       "    </tr>\n",
       "    <tr>\n",
       "      <th>2</th>\n",
       "      <td>2022-06-26 10:45:00</td>\n",
       "      <td>10.950701</td>\n",
       "      <td>10.838983</td>\n",
       "      <td>10.762424</td>\n",
       "      <td>NaN</td>\n",
       "      <td>2022-06-26 10:45:00</td>\n",
       "      <td>10.164029</td>\n",
       "      <td>0.786672</td>\n",
       "      <td>0.674954</td>\n",
       "      <td>0.598395</td>\n",
       "      <td>NaN</td>\n",
       "      <td>-1.136048</td>\n",
       "      <td>-1.065574</td>\n",
       "      <td>-1.179053</td>\n",
       "      <td>NaN</td>\n",
       "    </tr>\n",
       "    <tr>\n",
       "      <th>3</th>\n",
       "      <td>2022-06-26 11:00:00</td>\n",
       "      <td>10.970616</td>\n",
       "      <td>10.827154</td>\n",
       "      <td>10.745619</td>\n",
       "      <td>NaN</td>\n",
       "      <td>2022-06-26 11:00:00</td>\n",
       "      <td>10.165569</td>\n",
       "      <td>0.805046</td>\n",
       "      <td>0.661585</td>\n",
       "      <td>0.580050</td>\n",
       "      <td>NaN</td>\n",
       "      <td>-1.117673</td>\n",
       "      <td>-1.078942</td>\n",
       "      <td>-1.197398</td>\n",
       "      <td>NaN</td>\n",
       "    </tr>\n",
       "    <tr>\n",
       "      <th>4</th>\n",
       "      <td>2022-06-26 11:15:00</td>\n",
       "      <td>10.999861</td>\n",
       "      <td>10.824972</td>\n",
       "      <td>10.730691</td>\n",
       "      <td>NaN</td>\n",
       "      <td>2022-06-26 11:15:00</td>\n",
       "      <td>10.165095</td>\n",
       "      <td>0.834765</td>\n",
       "      <td>0.659877</td>\n",
       "      <td>0.565595</td>\n",
       "      <td>NaN</td>\n",
       "      <td>-1.087954</td>\n",
       "      <td>-1.080651</td>\n",
       "      <td>-1.211852</td>\n",
       "      <td>NaN</td>\n",
       "    </tr>\n",
       "  </tbody>\n",
       "</table>\n",
       "</div>"
      ],
      "text/plain": [
       "            date_time      log_1      log_2      log_3  log_4  \\\n",
       "0 2022-06-26 10:15:00  10.955055  10.867300  10.802263    NaN   \n",
       "1 2022-06-26 10:30:00  10.946031  10.852983  10.785143    NaN   \n",
       "2 2022-06-26 10:45:00  10.950701  10.838983  10.762424    NaN   \n",
       "3 2022-06-26 11:00:00  10.970616  10.827154  10.745619    NaN   \n",
       "4 2022-06-26 11:15:00  10.999861  10.824972  10.730691    NaN   \n",
       "\n",
       "                 time     p_mwst  log_1_comp_m  log_2_comp_m  log_3_comp_m  \\\n",
       "0 2022-06-26 10:15:00  10.160950      0.794105      0.706350      0.641314   \n",
       "1 2022-06-26 10:30:00  10.162489      0.783542      0.690494      0.622654   \n",
       "2 2022-06-26 10:45:00  10.164029      0.786672      0.674954      0.598395   \n",
       "3 2022-06-26 11:00:00  10.165569      0.805046      0.661585      0.580050   \n",
       "4 2022-06-26 11:15:00  10.165095      0.834765      0.659877      0.565595   \n",
       "\n",
       "   log_4_comp_m  log_1_comp_m_bs  log_2_comp_m_bs  log_3_comp_m_bs  \\\n",
       "0           NaN        -1.128614        -1.034177        -1.136134   \n",
       "1           NaN        -1.139178        -1.050033        -1.154794   \n",
       "2           NaN        -1.136048        -1.065574        -1.179053   \n",
       "3           NaN        -1.117673        -1.078942        -1.197398   \n",
       "4           NaN        -1.087954        -1.080651        -1.211852   \n",
       "\n",
       "   log_4_comp_m_bs  \n",
       "0              NaN  \n",
       "1              NaN  \n",
       "2              NaN  \n",
       "3              NaN  \n",
       "4              NaN  "
      ]
     },
     "execution_count": 346,
     "metadata": {},
     "output_type": "execute_result"
    }
   ],
   "source": [
    "logs_merge.head()"
   ]
  },
  {
   "cell_type": "markdown",
   "id": "b97c20ab",
   "metadata": {},
   "source": [
    "Осуществим графическое отоброжение уровней воды."
   ]
  },
  {
   "cell_type": "code",
   "execution_count": 347,
   "id": "1100361a",
   "metadata": {},
   "outputs": [
    {
     "data": {
      "image/png": "[encoded data removed]",
      "text/plain": [
       "<Figure size 864x432 with 1 Axes>"
      ]
     },
     "metadata": {
      "needs_background": "light"
     },
     "output_type": "display_data"
    }
   ],
   "source": [
    "fig = plt.figure(figsize=(12, 6))\n",
    "sns.lineplot(data=logs_merge, x='time', y='log_1_comp_m_bs')\n",
    "sns.lineplot(data=logs_merge, x='time', y='log_2_comp_m_bs')\n",
    "sns.lineplot(data=logs_merge, x='time', y='log_3_comp_m_bs')\n",
    "sns.lineplot(data=logs_merge, x='time', y='log_4_comp_m_bs')\n",
    "fig.legend(labels=['Лог 1','Лог 2','Лог 3', 'Лог 4'], loc='center right')\n",
    "plt.xlabel('Дата')\n",
    "plt.ylabel('Высота, м БС')\n",
    "plt.xticks(rotation=45);"
   ]
  },
  {
   "cell_type": "markdown",
   "id": "9eb05e1b",
   "metadata": {},
   "source": [
    "Уровни выглядят адекватно.\n",
    "Сохраним обработанные уровни в csv."
   ]
  },
  {
   "cell_type": "code",
   "execution_count": 348,
   "id": "6ca1e96c",
   "metadata": {},
   "outputs": [],
   "source": [
    "csv_file_out = path\n",
    "logs_merge[['time', 'log_1_comp_m_bs', 'log_2_comp_m_bs', 'log_3_comp_m_bs', 'log_4_comp_m_bs']].to_csv(csv_file_out)"
   ]
  },
  {
   "cell_type": "markdown",
   "id": "57f52d94",
   "metadata": {},
   "source": [
    "Данные самописцев обработаны."
   ]
  },
  {
   "cell_type": "markdown",
   "id": "a28610a4",
   "metadata": {},
   "source": [
    "## Использованные материалы\n",
    "\n",
    "- [Тетрадка конвертации NetCDF в csv](https://gist.github.com/copernicusmarinegist/b57417225d0d4ea47c5d6200f9d8cac3);\n",
    "- [Cтатья об API ECMWF](https://towardsdatascience.com/read-era5-directly-into-memory-with-python-511a2740bba0) о работе с API ECMWF."
   ]
  }
 ],
 "metadata": {
  "kernelspec": {
   "display_name": "Python 3 (ipykernel)",
   "language": "python",
   "name": "python3"
  },
  "language_info": {
   "codemirror_mode": {
    "name": "ipython",
    "version": 3
   },
   "file_extension": ".py",
   "mimetype": "text/x-python",
   "name": "python",
   "nbconvert_exporter": "python",
   "pygments_lexer": "ipython3",
   "version": "3.9.13"
  },
  "toc": {
   "base_numbering": 1,
   "nav_menu": {},
   "number_sections": true,
   "sideBar": true,
   "skip_h1_title": true,
   "title_cell": "Table of Contents",
   "title_sidebar": "Contents",
   "toc_cell": false,
   "toc_position": {
    "height": "calc(100% - 180px)",
    "left": "10px",
    "top": "150px",
    "width": "384px"
   },
   "toc_section_display": true,
   "toc_window_display": true
  }
 },
 "nbformat": 4,
 "nbformat_minor": 5
}
